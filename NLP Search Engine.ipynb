{
 "cells": [
  {
   "cell_type": "code",
   "execution_count": 1,
   "id": "c16f26ce",
   "metadata": {},
   "outputs": [],
   "source": [
    "import speech_recognition as sr #recognizes speech\n",
    "import time #using it to delay the response\n",
    "import webbrowser #for the urls\n",
    "import random #to randomly generate a filing for the audio file\n",
    "import os #to help us utilize the remove function"
   ]
  },
  {
   "cell_type": "code",
   "execution_count": 2,
   "id": "1cbc633b",
   "metadata": {},
   "outputs": [],
   "source": [
    "import playsound #plays the sound directly without using media-player or vlc\n",
    "from gtts import gTTS #imports the google translate text to speech"
   ]
  },
  {
   "cell_type": "code",
   "execution_count": 12,
   "id": "0038e845",
   "metadata": {},
   "outputs": [],
   "source": [
    "def runApp():\n",
    "    #initialize the recognizer\n",
    "    r = sr.Recognizer()\n",
    "    def audio_record(ask = False): #created an argument ask which is not compulsory\n",
    "        with sr.Microphone() as source:#the computer microphone is the source\n",
    "            if ask:\n",
    "                siri_speak(ask)\n",
    "            r.adjust_for_ambient_noise(source, duration=3) #make the program the background\n",
    "            audio = r.listen(source) #this basically listens to the source in this case microphone and stores\n",
    "            voice = '' #empty string\n",
    "\n",
    "            try:\n",
    "                voice = r.recognize_google(audio) \n",
    "\n",
    "            except sr.UnknownValueError: #this prints if the audio is not clear\n",
    "                siri_speak(\"Sorry,what did you say?\")\n",
    "            except sr.RequestError:\n",
    "                siri_speak(\"Sorry, I seem to be experiencing internet downtime\") #this prints if there is runtime error\n",
    "            return(voice)\n",
    "\n",
    "\n",
    "\n",
    "    def siri_speak(audio_str): #function that now makes siri speak out\n",
    "        tts = gTTS(audio_str, lang ='en')\n",
    "        r = random.randint(1, 10000) #creates random variables, upto 10000 for the audio files\n",
    "        audio_file = 'audio'+ str(r)+'.mp3' #generating the audio files names\n",
    "        tts.save(audio_file) #saves them then plays them\n",
    "        playsound.playsound(audio_file) #plays them\n",
    "        print(audio_str) #print the audio_str\n",
    "\n",
    "\n",
    "    def respond(voice): #storing the responses\n",
    "        if'what is your name' in voice:\n",
    "            siri_speak('My name is Siri') #prints\n",
    "\n",
    "        elif 'Show me' in voice:\n",
    "            show_me = audio_record(\"What do you want to see?\") #records another audio\n",
    "            url = 'https://google.com/search?q='+search   #opens urls\n",
    "            webbrowser.get().open(url)\n",
    "            siri_speak('Results for'+search)\n",
    "\n",
    "\n",
    "        elif 'Show me location' in voice:\n",
    "            location = audio_record(\"What map do you want displayed?\") #opens url\n",
    "            url = 'https://google.nl/maps/place/search?q='+location\n",
    "            webbrowser.get().open(url)\n",
    "            siri_speak('Showing'+location)\n",
    "            \n",
    "        elif 'Youtube' in voice:\n",
    "            url = 'https://www.youtube.com/watch?v='\n",
    "            webbrowser.get().open(url)\n",
    "            siri_speak('Opening Youtube')\n",
    "\n",
    "        elif 'Siri,am confused' in voice:\n",
    "            siri_speak('Am sorry, I really cannot help you')\n",
    "\n",
    "        elif 'When was the last time i slept?' in voice:\n",
    "            siri_speak('This assignment was harder than you obviously thought but its none of my business')\n",
    "\n",
    "        else:\n",
    "            siri_speak('Oops...')\n",
    "\n",
    "    siri_speak(\"Hello there, I am Siri, your assistant, how can i help you?\")\n",
    "\n",
    "    siri_speak(\"........Listening.........\")\n",
    "    time.sleep(3)\n",
    "    voice = audio_record()\n",
    "    respond(voice)"
   ]
  },
  {
   "cell_type": "code",
   "execution_count": 13,
   "id": "5a7c1f34",
   "metadata": {},
   "outputs": [],
   "source": [
    "import tkinter as tk #a library for building GUI"
   ]
  },
  {
   "cell_type": "code",
   "execution_count": 15,
   "id": "4db60c6d",
   "metadata": {},
   "outputs": [],
   "source": [
    "root = tk.Toplevel() #creates the root\n",
    "root.geometry('1000x600') #says how big the interface\n",
    "root.title(\"NLP Search Engine with TTS/STT\") \n",
    "\n",
    "\n",
    "canvas = tk.Canvas(root,height =600, width = 1000, bg='#263D42') #creates a green canvas\n",
    "canvas.pack()\n",
    "photo = tk.PhotoImage(file = 'C:\\\\Users\\\\ADMIN\\\\Desktop\\\\Beautiful-lake-sunset-wallpaper.png')\n",
    "canvas.create_image(0,0,image = photo, anchor ='nw') #image is at nw\n",
    "\n",
    "runApp_btn = tk.Button(canvas,text = \"Search the web.......\",\n",
    "             width = \"40\", pady = 15,\n",
    "             font = \"bold, 15\", command = runApp,\n",
    "             bg='white') #creates a white button\n",
    "runApp_btn.place(x=230,y=300)\n",
    "\n",
    "root.mainloop() #makes our app run"
   ]
  },
  {
   "cell_type": "code",
   "execution_count": null,
   "id": "99c7f9ff",
   "metadata": {},
   "outputs": [],
   "source": []
  }
 ],
 "metadata": {
  "kernelspec": {
   "display_name": "Python 3",
   "language": "python",
   "name": "python3"
  },
  "language_info": {
   "codemirror_mode": {
    "name": "ipython",
    "version": 3
   },
   "file_extension": ".py",
   "mimetype": "text/x-python",
   "name": "python",
   "nbconvert_exporter": "python",
   "pygments_lexer": "ipython3",
   "version": "3.8.8"
  }
 },
 "nbformat": 4,
 "nbformat_minor": 5
}
