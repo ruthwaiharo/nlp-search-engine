{
 "cells": [
  {
   "cell_type": "code",
   "execution_count": 1,
   "id": "680305bc",
   "metadata": {},
   "outputs": [],
   "source": [
    "import speech_recognition as sr #recognizes speech\n",
    "import time #using it to delay the response\n",
    "import webbrowser #for the urls\n",
    "import random #to randomly generate a filing for the audio file\n",
    "import os #to help us utilize the remove function"
   ]
  },
  {
   "cell_type": "code",
   "execution_count": 92,
   "id": "4767a80e",
   "metadata": {},
   "outputs": [],
   "source": [
    "#import PyAudio\n",
    "import pyttsx3 as pt"
   ]
  },
  {
   "cell_type": "code",
   "execution_count": 2,
   "id": "c306178d",
   "metadata": {},
   "outputs": [],
   "source": [
    "import playsound #plays the sound directly without using media-player or vlc\n",
    "from gtts import gTTS #imports the google translate text to speech"
   ]
  },
  {
   "cell_type": "code",
   "execution_count": 93,
   "id": "d76ecdd4",
   "metadata": {},
   "outputs": [],
   "source": [
    "#def speak(text):\n",
    "    #engine.say(text)\n",
    "    #engine.runAndWait()\n",
    "\n",
    "#engine = pt.init()\n",
    "#engine.setProperty('rate',150) #makes it slower\n",
    "#voices = engine.getProperty('voices')\n",
    "#engine.setProperty('voice',voices[1].id) #changes the voice to a female voice"
   ]
  },
  {
   "cell_type": "code",
   "execution_count": 121,
   "id": "6360d077",
   "metadata": {},
   "outputs": [],
   "source": [
    "def main():\n",
    "    r = sr.Recognizer()\n",
    "    def record_audio(ask = False):\n",
    "        with sr.Microphone() as source:\n",
    "            if ask:\n",
    "                Tkinter_search(ask)\n",
    "            #print('Say Something')\n",
    "            r.energy_threshhold = 100000\n",
    "            r.adjust_for_ambient_noise(source,1.2)\n",
    "            audio = r.listen(source)\n",
    "            #voice_data = ''\n",
    "            try:\n",
    "                #audio = r.listen(source)\n",
    "                voice_data = r.recognize_google(audio)\n",
    "\n",
    "            except sr.UnknownValueError:\n",
    "                    Tkinter_search(\"Sorry, i cant hear you\")\n",
    "            except sr.RequestError:\n",
    "                    Tkinter_search(\"Timed Out....\")\n",
    "            return voice_data\n",
    "\n",
    "\n",
    "    def Tkinter_search(audio_str):\n",
    "        tts = gTTS(audio_str, lang ='en')\n",
    "        r = random.randint(1, 10000) #creates random variables, upto 10000 for the audio files\n",
    "        audio_file = 'audio'+ str(r)+'.mp3' #generating the audio files names\n",
    "        tts.save(audio_file) #saves them then plays them\n",
    "        playsound.playsound(audio_file) #plays them\n",
    "        print(audio_str)\n",
    "        os.remove(audio_file) #removes them\n",
    "\n",
    "    def respond(voice_data): #storing the responses\n",
    "        if'what'and'is'and 'your' and 'name' in voice_data:\n",
    "            Tkinter_search('My name is Tkinter Voice Assistant') #prints\n",
    "\n",
    "        elif 'i' and 'am' and 'confused' in voice_data:\n",
    "            Tkinter_search('Am sorry, I really cannot help you')\n",
    "\n",
    "        elif  'Is' and 'it' and 'too' and 'late' in voice_data:\n",
    "            Tkinter_search('Yes it is')\n",
    "\n",
    "        elif 'Show' and 'me' in voice_data:\n",
    "                show_me = record_audio(\"What do you want to see?\") #records another audio\n",
    "                url = 'https://google.com/search?q='+ show_me   #opens urls\n",
    "                webbrowser.get().open(url)\n",
    "                Tkinter_search('Results for: '+ show_me)\n",
    "\n",
    "        elif 'Show' and 'location' in voice_data:\n",
    "                location = record_audio(\"Which map do you want displayed?\") #opens url\n",
    "                url = 'https://google.nl/maps/place/search?q='+location\n",
    "                webbrowser.get().open(url)\n",
    "                Tkinter_search('Showing: '+ location)\n",
    "        elif \"Bye\" in voice_data:\n",
    "              exit()\n",
    "\n",
    "\n",
    "\n",
    "    time.sleep(2)\n",
    "    Tkinter_search(\"How can i help you?\")\n",
    "    while 1:\n",
    "        voice_data = record_audio()\n",
    "        respond(voice_data)"
   ]
  },
  {
   "cell_type": "code",
   "execution_count": 132,
   "id": "5e0e481f",
   "metadata": {},
   "outputs": [
    {
     "name": "stdout",
     "output_type": "stream",
     "text": [
      "How can i help you?\n",
      "What do you want to see?\n",
      "Results for: cats\n"
     ]
    },
    {
     "ename": "KeyboardInterrupt",
     "evalue": "",
     "output_type": "error",
     "traceback": [
      "\u001b[1;31m---------------------------------------------------------------------------\u001b[0m",
      "\u001b[1;31mKeyboardInterrupt\u001b[0m                         Traceback (most recent call last)",
      "\u001b[1;32m<ipython-input-132-263240bbee7e>\u001b[0m in \u001b[0;36m<module>\u001b[1;34m\u001b[0m\n\u001b[1;32m----> 1\u001b[1;33m \u001b[0mmain\u001b[0m\u001b[1;33m(\u001b[0m\u001b[1;33m)\u001b[0m\u001b[1;33m\u001b[0m\u001b[1;33m\u001b[0m\u001b[0m\n\u001b[0m",
      "\u001b[1;32m<ipython-input-121-e4a225887c85>\u001b[0m in \u001b[0;36mmain\u001b[1;34m()\u001b[0m\n\u001b[0;32m     59\u001b[0m     \u001b[0mTkinter_search\u001b[0m\u001b[1;33m(\u001b[0m\u001b[1;34m\"How can i help you?\"\u001b[0m\u001b[1;33m)\u001b[0m\u001b[1;33m\u001b[0m\u001b[1;33m\u001b[0m\u001b[0m\n\u001b[0;32m     60\u001b[0m     \u001b[1;32mwhile\u001b[0m \u001b[1;36m1\u001b[0m\u001b[1;33m:\u001b[0m\u001b[1;33m\u001b[0m\u001b[1;33m\u001b[0m\u001b[0m\n\u001b[1;32m---> 61\u001b[1;33m         \u001b[0mvoice_data\u001b[0m \u001b[1;33m=\u001b[0m \u001b[0mrecord_audio\u001b[0m\u001b[1;33m(\u001b[0m\u001b[1;33m)\u001b[0m\u001b[1;33m\u001b[0m\u001b[1;33m\u001b[0m\u001b[0m\n\u001b[0m\u001b[0;32m     62\u001b[0m         \u001b[0mrespond\u001b[0m\u001b[1;33m(\u001b[0m\u001b[0mvoice_data\u001b[0m\u001b[1;33m)\u001b[0m\u001b[1;33m\u001b[0m\u001b[1;33m\u001b[0m\u001b[0m\n",
      "\u001b[1;32m<ipython-input-121-e4a225887c85>\u001b[0m in \u001b[0;36mrecord_audio\u001b[1;34m(ask)\u001b[0m\n\u001b[0;32m      8\u001b[0m             \u001b[0mr\u001b[0m\u001b[1;33m.\u001b[0m\u001b[0menergy_threshhold\u001b[0m \u001b[1;33m=\u001b[0m \u001b[1;36m100000\u001b[0m\u001b[1;33m\u001b[0m\u001b[1;33m\u001b[0m\u001b[0m\n\u001b[0;32m      9\u001b[0m             \u001b[0mr\u001b[0m\u001b[1;33m.\u001b[0m\u001b[0madjust_for_ambient_noise\u001b[0m\u001b[1;33m(\u001b[0m\u001b[0msource\u001b[0m\u001b[1;33m,\u001b[0m\u001b[1;36m1.2\u001b[0m\u001b[1;33m)\u001b[0m\u001b[1;33m\u001b[0m\u001b[1;33m\u001b[0m\u001b[0m\n\u001b[1;32m---> 10\u001b[1;33m             \u001b[0maudio\u001b[0m \u001b[1;33m=\u001b[0m \u001b[0mr\u001b[0m\u001b[1;33m.\u001b[0m\u001b[0mlisten\u001b[0m\u001b[1;33m(\u001b[0m\u001b[0msource\u001b[0m\u001b[1;33m)\u001b[0m\u001b[1;33m\u001b[0m\u001b[1;33m\u001b[0m\u001b[0m\n\u001b[0m\u001b[0;32m     11\u001b[0m             \u001b[1;31m#voice_data = ''\u001b[0m\u001b[1;33m\u001b[0m\u001b[1;33m\u001b[0m\u001b[1;33m\u001b[0m\u001b[0m\n\u001b[0;32m     12\u001b[0m             \u001b[1;32mtry\u001b[0m\u001b[1;33m:\u001b[0m\u001b[1;33m\u001b[0m\u001b[1;33m\u001b[0m\u001b[0m\n",
      "\u001b[1;32m~\\anaconda3\\lib\\site-packages\\speech_recognition\\__init__.py\u001b[0m in \u001b[0;36mlisten\u001b[1;34m(self, source, timeout, phrase_time_limit, snowboy_configuration)\u001b[0m\n\u001b[0;32m    650\u001b[0m                     \u001b[1;32mbreak\u001b[0m\u001b[1;33m\u001b[0m\u001b[1;33m\u001b[0m\u001b[0m\n\u001b[0;32m    651\u001b[0m \u001b[1;33m\u001b[0m\u001b[0m\n\u001b[1;32m--> 652\u001b[1;33m                 \u001b[0mbuffer\u001b[0m \u001b[1;33m=\u001b[0m \u001b[0msource\u001b[0m\u001b[1;33m.\u001b[0m\u001b[0mstream\u001b[0m\u001b[1;33m.\u001b[0m\u001b[0mread\u001b[0m\u001b[1;33m(\u001b[0m\u001b[0msource\u001b[0m\u001b[1;33m.\u001b[0m\u001b[0mCHUNK\u001b[0m\u001b[1;33m)\u001b[0m\u001b[1;33m\u001b[0m\u001b[1;33m\u001b[0m\u001b[0m\n\u001b[0m\u001b[0;32m    653\u001b[0m                 \u001b[1;32mif\u001b[0m \u001b[0mlen\u001b[0m\u001b[1;33m(\u001b[0m\u001b[0mbuffer\u001b[0m\u001b[1;33m)\u001b[0m \u001b[1;33m==\u001b[0m \u001b[1;36m0\u001b[0m\u001b[1;33m:\u001b[0m \u001b[1;32mbreak\u001b[0m  \u001b[1;31m# reached end of the stream\u001b[0m\u001b[1;33m\u001b[0m\u001b[1;33m\u001b[0m\u001b[0m\n\u001b[0;32m    654\u001b[0m                 \u001b[0mframes\u001b[0m\u001b[1;33m.\u001b[0m\u001b[0mappend\u001b[0m\u001b[1;33m(\u001b[0m\u001b[0mbuffer\u001b[0m\u001b[1;33m)\u001b[0m\u001b[1;33m\u001b[0m\u001b[1;33m\u001b[0m\u001b[0m\n",
      "\u001b[1;32m~\\anaconda3\\lib\\site-packages\\speech_recognition\\__init__.py\u001b[0m in \u001b[0;36mread\u001b[1;34m(self, size)\u001b[0m\n\u001b[0;32m    159\u001b[0m \u001b[1;33m\u001b[0m\u001b[0m\n\u001b[0;32m    160\u001b[0m         \u001b[1;32mdef\u001b[0m \u001b[0mread\u001b[0m\u001b[1;33m(\u001b[0m\u001b[0mself\u001b[0m\u001b[1;33m,\u001b[0m \u001b[0msize\u001b[0m\u001b[1;33m)\u001b[0m\u001b[1;33m:\u001b[0m\u001b[1;33m\u001b[0m\u001b[1;33m\u001b[0m\u001b[0m\n\u001b[1;32m--> 161\u001b[1;33m             \u001b[1;32mreturn\u001b[0m \u001b[0mself\u001b[0m\u001b[1;33m.\u001b[0m\u001b[0mpyaudio_stream\u001b[0m\u001b[1;33m.\u001b[0m\u001b[0mread\u001b[0m\u001b[1;33m(\u001b[0m\u001b[0msize\u001b[0m\u001b[1;33m,\u001b[0m \u001b[0mexception_on_overflow\u001b[0m\u001b[1;33m=\u001b[0m\u001b[1;32mFalse\u001b[0m\u001b[1;33m)\u001b[0m\u001b[1;33m\u001b[0m\u001b[1;33m\u001b[0m\u001b[0m\n\u001b[0m\u001b[0;32m    162\u001b[0m \u001b[1;33m\u001b[0m\u001b[0m\n\u001b[0;32m    163\u001b[0m         \u001b[1;32mdef\u001b[0m \u001b[0mclose\u001b[0m\u001b[1;33m(\u001b[0m\u001b[0mself\u001b[0m\u001b[1;33m)\u001b[0m\u001b[1;33m:\u001b[0m\u001b[1;33m\u001b[0m\u001b[1;33m\u001b[0m\u001b[0m\n",
      "\u001b[1;32m~\\anaconda3\\lib\\site-packages\\pyaudio.py\u001b[0m in \u001b[0;36mread\u001b[1;34m(self, num_frames, exception_on_overflow)\u001b[0m\n\u001b[0;32m    606\u001b[0m                           paCanNotReadFromAnOutputOnlyStream)\n\u001b[0;32m    607\u001b[0m \u001b[1;33m\u001b[0m\u001b[0m\n\u001b[1;32m--> 608\u001b[1;33m         \u001b[1;32mreturn\u001b[0m \u001b[0mpa\u001b[0m\u001b[1;33m.\u001b[0m\u001b[0mread_stream\u001b[0m\u001b[1;33m(\u001b[0m\u001b[0mself\u001b[0m\u001b[1;33m.\u001b[0m\u001b[0m_stream\u001b[0m\u001b[1;33m,\u001b[0m \u001b[0mnum_frames\u001b[0m\u001b[1;33m,\u001b[0m \u001b[0mexception_on_overflow\u001b[0m\u001b[1;33m)\u001b[0m\u001b[1;33m\u001b[0m\u001b[1;33m\u001b[0m\u001b[0m\n\u001b[0m\u001b[0;32m    609\u001b[0m \u001b[1;33m\u001b[0m\u001b[0m\n\u001b[0;32m    610\u001b[0m     \u001b[1;32mdef\u001b[0m \u001b[0mget_read_available\u001b[0m\u001b[1;33m(\u001b[0m\u001b[0mself\u001b[0m\u001b[1;33m)\u001b[0m\u001b[1;33m:\u001b[0m\u001b[1;33m\u001b[0m\u001b[1;33m\u001b[0m\u001b[0m\n",
      "\u001b[1;31mKeyboardInterrupt\u001b[0m: "
     ]
    }
   ],
   "source": [
    "main()"
   ]
  },
  {
   "cell_type": "code",
   "execution_count": 119,
   "id": "284f068f",
   "metadata": {},
   "outputs": [],
   "source": [
    "import tkinter as tk #a library for building GUI"
   ]
  },
  {
   "cell_type": "code",
   "execution_count": 123,
   "id": "97ceee2d",
   "metadata": {},
   "outputs": [
    {
     "name": "stdout",
     "output_type": "stream",
     "text": [
      "How can i help you?\n",
      "Sorry, i cant hear you\n"
     ]
    },
    {
     "name": "stderr",
     "output_type": "stream",
     "text": [
      "Exception in Tkinter callback\n",
      "Traceback (most recent call last):\n",
      "  File \"C:\\Users\\ADMIN\\anaconda3\\lib\\tkinter\\__init__.py\", line 1892, in __call__\n",
      "    return self.func(*args)\n",
      "  File \"<ipython-input-121-e4a225887c85>\", line 61, in main\n",
      "    voice_data = record_audio()\n",
      "  File \"<ipython-input-121-e4a225887c85>\", line 20, in record_audio\n",
      "    return voice_data\n",
      "UnboundLocalError: local variable 'voice_data' referenced before assignment\n"
     ]
    },
    {
     "name": "stdout",
     "output_type": "stream",
     "text": [
      "How can i help you?\n",
      "Sorry, i cant hear you\n"
     ]
    },
    {
     "name": "stderr",
     "output_type": "stream",
     "text": [
      "Exception in Tkinter callback\n",
      "Traceback (most recent call last):\n",
      "  File \"C:\\Users\\ADMIN\\anaconda3\\lib\\tkinter\\__init__.py\", line 1892, in __call__\n",
      "    return self.func(*args)\n",
      "  File \"<ipython-input-121-e4a225887c85>\", line 61, in main\n",
      "    voice_data = record_audio()\n",
      "  File \"<ipython-input-121-e4a225887c85>\", line 20, in record_audio\n",
      "    return voice_data\n",
      "UnboundLocalError: local variable 'voice_data' referenced before assignment\n"
     ]
    },
    {
     "ename": "KeyboardInterrupt",
     "evalue": "",
     "output_type": "error",
     "traceback": [
      "\u001b[1;31m---------------------------------------------------------------------------\u001b[0m",
      "\u001b[1;31mKeyboardInterrupt\u001b[0m                         Traceback (most recent call last)",
      "\u001b[1;32m<ipython-input-123-7c049eb396b0>\u001b[0m in \u001b[0;36m<module>\u001b[1;34m\u001b[0m\n\u001b[0;32m     15\u001b[0m \u001b[0mrunApp_btn\u001b[0m\u001b[1;33m.\u001b[0m\u001b[0mplace\u001b[0m\u001b[1;33m(\u001b[0m\u001b[0mx\u001b[0m\u001b[1;33m=\u001b[0m\u001b[1;36m230\u001b[0m\u001b[1;33m,\u001b[0m\u001b[0my\u001b[0m\u001b[1;33m=\u001b[0m\u001b[1;36m300\u001b[0m\u001b[1;33m)\u001b[0m\u001b[1;33m\u001b[0m\u001b[1;33m\u001b[0m\u001b[0m\n\u001b[0;32m     16\u001b[0m \u001b[1;33m\u001b[0m\u001b[0m\n\u001b[1;32m---> 17\u001b[1;33m \u001b[0mroot\u001b[0m\u001b[1;33m.\u001b[0m\u001b[0mmainloop\u001b[0m\u001b[1;33m(\u001b[0m\u001b[1;33m)\u001b[0m \u001b[1;31m#makes our app run\u001b[0m\u001b[1;33m\u001b[0m\u001b[1;33m\u001b[0m\u001b[0m\n\u001b[0m",
      "\u001b[1;32m~\\anaconda3\\lib\\tkinter\\__init__.py\u001b[0m in \u001b[0;36mmainloop\u001b[1;34m(self, n)\u001b[0m\n\u001b[0;32m   1427\u001b[0m     \u001b[1;32mdef\u001b[0m \u001b[0mmainloop\u001b[0m\u001b[1;33m(\u001b[0m\u001b[0mself\u001b[0m\u001b[1;33m,\u001b[0m \u001b[0mn\u001b[0m\u001b[1;33m=\u001b[0m\u001b[1;36m0\u001b[0m\u001b[1;33m)\u001b[0m\u001b[1;33m:\u001b[0m\u001b[1;33m\u001b[0m\u001b[1;33m\u001b[0m\u001b[0m\n\u001b[0;32m   1428\u001b[0m         \u001b[1;34m\"\"\"Call the mainloop of Tk.\"\"\"\u001b[0m\u001b[1;33m\u001b[0m\u001b[1;33m\u001b[0m\u001b[0m\n\u001b[1;32m-> 1429\u001b[1;33m         \u001b[0mself\u001b[0m\u001b[1;33m.\u001b[0m\u001b[0mtk\u001b[0m\u001b[1;33m.\u001b[0m\u001b[0mmainloop\u001b[0m\u001b[1;33m(\u001b[0m\u001b[0mn\u001b[0m\u001b[1;33m)\u001b[0m\u001b[1;33m\u001b[0m\u001b[1;33m\u001b[0m\u001b[0m\n\u001b[0m\u001b[0;32m   1430\u001b[0m \u001b[1;33m\u001b[0m\u001b[0m\n\u001b[0;32m   1431\u001b[0m     \u001b[1;32mdef\u001b[0m \u001b[0mquit\u001b[0m\u001b[1;33m(\u001b[0m\u001b[0mself\u001b[0m\u001b[1;33m)\u001b[0m\u001b[1;33m:\u001b[0m\u001b[1;33m\u001b[0m\u001b[1;33m\u001b[0m\u001b[0m\n",
      "\u001b[1;31mKeyboardInterrupt\u001b[0m: "
     ]
    }
   ],
   "source": [
    "root = tk.Toplevel() #creates the root\n",
    "root.geometry('1000x600') #says how big the interface\n",
    "root.title(\"NLP Search Engine with TTS/STT\") \n",
    "\n",
    "\n",
    "canvas = tk.Canvas(root,height =600, width = 1000, bg='#263D42') #creates a green canvas\n",
    "canvas.pack()\n",
    "photo = tk.PhotoImage(file = 'C:\\\\Users\\\\ADMIN\\\\Desktop\\\\Beautiful-lake-sunset-wallpaper.png')\n",
    "canvas.create_image(0,0,image = photo, anchor ='nw') #image is at nw\n",
    "\n",
    "runApp_btn = tk.Button(canvas,text = \"Search the web.......\",\n",
    "             width = \"40\", pady = 15,\n",
    "             font = \"bold, 15\", command = main,\n",
    "             bg='white') #creates a white button\n",
    "runApp_btn.place(x=230,y=300)\n",
    "\n",
    "root.mainloop() #makes our app run"
   ]
  },
  {
   "cell_type": "code",
   "execution_count": null,
   "id": "cce74b93",
   "metadata": {},
   "outputs": [],
   "source": []
  }
 ],
 "metadata": {
  "kernelspec": {
   "display_name": "Python 3",
   "language": "python",
   "name": "python3"
  },
  "language_info": {
   "codemirror_mode": {
    "name": "ipython",
    "version": 3
   },
   "file_extension": ".py",
   "mimetype": "text/x-python",
   "name": "python",
   "nbconvert_exporter": "python",
   "pygments_lexer": "ipython3",
   "version": "3.8.8"
  }
 },
 "nbformat": 4,
 "nbformat_minor": 5
}
